{
 "cells": [
  {
   "cell_type": "code",
   "execution_count": 3,
   "metadata": {},
   "outputs": [],
   "source": [
    "import tensorflow as tf"
   ]
  },
  {
   "cell_type": "code",
   "execution_count": 4,
   "metadata": {},
   "outputs": [],
   "source": [
    "from tensorflow.keras.datasets import mnist"
   ]
  },
  {
   "cell_type": "code",
   "execution_count": 5,
   "metadata": {},
   "outputs": [
    {
     "name": "stdout",
     "output_type": "stream",
     "text": [
      "(60000, 28, 28)\n",
      "(60000,)\n",
      "(10000, 28, 28)\n",
      "(10000,)\n"
     ]
    }
   ],
   "source": [
    "#loading training and testing data\n",
    "(x_train,y_train),(x_test,y_test)=mnist.load_data()\n",
    "print(x_train.shape)\n",
    "print(y_train.shape)\n",
    "print(x_test.shape)\n",
    "print(y_test.shape)"
   ]
  },
  {
   "cell_type": "code",
   "execution_count": 6,
   "metadata": {},
   "outputs": [],
   "source": [
    "from matplotlib import pyplot as plt\n",
    "%matplotlib inline"
   ]
  },
  {
   "cell_type": "code",
   "execution_count": 7,
   "metadata": {},
   "outputs": [
    {
     "data": {
      "image/png": "[encoded data removed]",
      "text/plain": [
       "<Figure size 432x288 with 1 Axes>"
      ]
     },
     "metadata": {
      "needs_background": "light"
     },
     "output_type": "display_data"
    }
   ],
   "source": [
    "plt.imshow(x_train[0],cmap='binary')\n",
    "plt.show()\n"
   ]
  },
  {
   "cell_type": "code",
   "execution_count": 9,
   "metadata": {},
   "outputs": [
    {
     "name": "stdout",
     "output_type": "stream",
     "text": [
      "{0, 1, 2, 3, 4, 5, 6, 7, 8, 9}\n"
     ]
    }
   ],
   "source": [
    "\n",
    "print(set(y_train)) # for unique values"
   ]
  },
  {
   "cell_type": "code",
   "execution_count": 10,
   "metadata": {},
   "outputs": [
    {
     "data": {
      "text/plain": [
       "5"
      ]
     },
     "execution_count": 10,
     "metadata": {},
     "output_type": "execute_result"
    }
   ],
   "source": [
    "y_train[0]"
   ]
  },
  {
   "cell_type": "code",
   "execution_count": 11,
   "metadata": {},
   "outputs": [],
   "source": [
    "#using one hot encoder\n",
    "from tensorflow.keras.utils import to_categorical"
   ]
  },
  {
   "cell_type": "code",
   "execution_count": 14,
   "metadata": {
    "scrolled": false
   },
   "outputs": [
    {
     "name": "stdout",
     "output_type": "stream",
     "text": [
      "[[0. 0. 0. ... 0. 0. 0.]\n",
      " [1. 0. 0. ... 0. 0. 0.]\n",
      " [0. 0. 0. ... 0. 0. 0.]\n",
      " ...\n",
      " [0. 0. 0. ... 0. 0. 0.]\n",
      " [0. 0. 0. ... 0. 0. 0.]\n",
      " [0. 0. 0. ... 0. 1. 0.]]\n",
      "next\n",
      "[[0. 0. 0. ... 0. 0. 0.]\n",
      " [1. 0. 0. ... 0. 0. 0.]\n",
      " [0. 0. 0. ... 0. 0. 0.]\n",
      " ...\n",
      " [0. 0. 0. ... 0. 0. 0.]\n",
      " [0. 0. 0. ... 0. 0. 0.]\n",
      " [0. 0. 0. ... 0. 1. 0.]]\n"
     ]
    }
   ],
   "source": [
    "y_train_encoded=to_categorical(y_train)\n",
    "y_test_encoded=to_categorical(y_test)\n",
    "print(y_train_encoded)\n",
    "print(\"next\")\n",
    "print(y_train_encoded)"
   ]
  },
  {
   "cell_type": "code",
   "execution_count": 15,
   "metadata": {},
   "outputs": [
    {
     "name": "stdout",
     "output_type": "stream",
     "text": [
      "(60000, 10)\n",
      "(10000, 10)\n"
     ]
    }
   ],
   "source": [
    "#validated shapes\n",
    "print(y_train_encoded.shape)\n",
    "print(y_test_encoded.shape)"
   ]
  },
  {
   "cell_type": "code",
   "execution_count": 16,
   "metadata": {},
   "outputs": [
    {
     "data": {
      "text/plain": [
       "array([0., 0., 0., 0., 0., 1., 0., 0., 0., 0.], dtype=float32)"
      ]
     },
     "execution_count": 16,
     "metadata": {},
     "output_type": "execute_result"
    }
   ],
   "source": [
    "y_train_encoded[0] #dispay encoded levels"
   ]
  },
  {
   "cell_type": "code",
   "execution_count": 17,
   "metadata": {},
   "outputs": [
    {
     "name": "stdout",
     "output_type": "stream",
     "text": [
      "(60000, 784)\n",
      "(10000, 784)\n"
     ]
    }
   ],
   "source": [
    "#preprocessing\n",
    "import numpy as np\n",
    "x_train_reshaped=np.reshape(x_train,(60000,784))\n",
    "x_test_reshaped=np.reshape(x_test,(10000,784))\n",
    "print(x_train_reshaped.shape)\n",
    "print(x_test_reshaped.shape)\n"
   ]
  },
  {
   "cell_type": "code",
   "execution_count": 18,
   "metadata": {},
   "outputs": [
    {
     "name": "stdout",
     "output_type": "stream",
     "text": [
      "{0, 1, 2, 3, 9, 11, 14, 16, 18, 23, 24, 25, 26, 27, 30, 35, 36, 39, 43, 45, 46, 49, 55, 56, 64, 66, 70, 78, 80, 81, 82, 90, 93, 94, 107, 108, 114, 119, 126, 127, 130, 132, 133, 135, 136, 139, 148, 150, 154, 156, 160, 166, 170, 171, 172, 175, 182, 183, 186, 187, 190, 195, 198, 201, 205, 207, 212, 213, 219, 221, 225, 226, 229, 238, 240, 241, 242, 244, 247, 249, 250, 251, 252, 253, 255}\n"
     ]
    }
   ],
   "source": [
    "#display pixel values\n",
    "print(set(x_train_reshaped[0]))"
   ]
  },
  {
   "cell_type": "code",
   "execution_count": 19,
   "metadata": {},
   "outputs": [
    {
     "data": {
      "text/plain": [
       "array([  0,   0,   0,   0,   0,   0,   0,   0,   0,   0,   0,   0,   0,\n",
       "         0,   0,   0,   0,   0,   0,   0,   0,   0,   0,   0,   0,   0,\n",
       "         0,   0,   0,   0,   0,   0,   0,   0,   0,   0,   0,   0,   0,\n",
       "         0,   0,   0,   0,   0,   0,   0,   0,   0,   0,   0,   0,   0,\n",
       "         0,   0,   0,   0,   0,   0,   0,   0,   0,   0,   0,   0,   0,\n",
       "         0,   0,   0,   0,   0,   0,   0,   0,   0,   0,   0,   0,   0,\n",
       "         0,   0,   0,   0,   0,   0,   0,   0,   0,   0,   0,   0,   0,\n",
       "         0,   0,   0,   0,   0,   0,   0,   0,   0,   0,   0,   0,   0,\n",
       "         0,   0,   0,   0,   0,   0,   0,   0,   0,   0,   0,   0,   0,\n",
       "         0,   0,   0,   0,   0,   0,   0,   0,   0,   0,   0,   0,   0,\n",
       "         0,   0,   0,   0,   0,   0,   0,   0,   0,   0,   0,   0,   0,\n",
       "         0,   0,   0,   0,   0,   0,   0,   0,   0,   3,  18,  18,  18,\n",
       "       126, 136, 175,  26, 166, 255, 247, 127,   0,   0,   0,   0,   0,\n",
       "         0,   0,   0,   0,   0,   0,   0,  30,  36,  94, 154, 170, 253,\n",
       "       253, 253, 253, 253, 225, 172, 253, 242, 195,  64,   0,   0,   0,\n",
       "         0,   0,   0,   0,   0,   0,   0,   0,  49, 238, 253, 253, 253,\n",
       "       253, 253, 253, 253, 253, 251,  93,  82,  82,  56,  39,   0,   0,\n",
       "         0,   0,   0,   0,   0,   0,   0,   0,   0,   0,  18, 219, 253,\n",
       "       253, 253, 253, 253, 198, 182, 247, 241,   0,   0,   0,   0,   0,\n",
       "         0,   0,   0,   0,   0,   0,   0,   0,   0,   0,   0,   0,   0,\n",
       "        80, 156, 107, 253, 253, 205,  11,   0,  43, 154,   0,   0,   0,\n",
       "         0,   0,   0,   0,   0,   0,   0,   0,   0,   0,   0,   0,   0,\n",
       "         0,   0,   0,  14,   1, 154, 253,  90,   0,   0,   0,   0,   0,\n",
       "         0,   0,   0,   0,   0,   0,   0,   0,   0,   0,   0,   0,   0,\n",
       "         0,   0,   0,   0,   0,   0,   0, 139, 253, 190,   2,   0,   0,\n",
       "         0,   0,   0,   0,   0,   0,   0,   0,   0,   0,   0,   0,   0,\n",
       "         0,   0,   0,   0,   0,   0,   0,   0,   0,  11, 190, 253,  70,\n",
       "         0,   0,   0,   0,   0,   0,   0,   0,   0,   0,   0,   0,   0,\n",
       "         0,   0,   0,   0,   0,   0,   0,   0,   0,   0,   0,   0,  35,\n",
       "       241, 225, 160, 108,   1,   0,   0,   0,   0,   0,   0,   0,   0,\n",
       "         0,   0,   0,   0,   0,   0,   0,   0,   0,   0,   0,   0,   0,\n",
       "         0,   0,  81, 240, 253, 253, 119,  25,   0,   0,   0,   0,   0,\n",
       "         0,   0,   0,   0,   0,   0,   0,   0,   0,   0,   0,   0,   0,\n",
       "         0,   0,   0,   0,   0,  45, 186, 253, 253, 150,  27,   0,   0,\n",
       "         0,   0,   0,   0,   0,   0,   0,   0,   0,   0,   0,   0,   0,\n",
       "         0,   0,   0,   0,   0,   0,   0,   0,  16,  93, 252, 253, 187,\n",
       "         0,   0,   0,   0,   0,   0,   0,   0,   0,   0,   0,   0,   0,\n",
       "         0,   0,   0,   0,   0,   0,   0,   0,   0,   0,   0,   0, 249,\n",
       "       253, 249,  64,   0,   0,   0,   0,   0,   0,   0,   0,   0,   0,\n",
       "         0,   0,   0,   0,   0,   0,   0,   0,   0,   0,   0,  46, 130,\n",
       "       183, 253, 253, 207,   2,   0,   0,   0,   0,   0,   0,   0,   0,\n",
       "         0,   0,   0,   0,   0,   0,   0,   0,   0,   0,   0,  39, 148,\n",
       "       229, 253, 253, 253, 250, 182,   0,   0,   0,   0,   0,   0,   0,\n",
       "         0,   0,   0,   0,   0,   0,   0,   0,   0,   0,   0,  24, 114,\n",
       "       221, 253, 253, 253, 253, 201,  78,   0,   0,   0,   0,   0,   0,\n",
       "         0,   0,   0,   0,   0,   0,   0,   0,   0,   0,   0,  23,  66,\n",
       "       213, 253, 253, 253, 253, 198,  81,   2,   0,   0,   0,   0,   0,\n",
       "         0,   0,   0,   0,   0,   0,   0,   0,   0,   0,   0,  18, 171,\n",
       "       219, 253, 253, 253, 253, 195,  80,   9,   0,   0,   0,   0,   0,\n",
       "         0,   0,   0,   0,   0,   0,   0,   0,   0,   0,   0,  55, 172,\n",
       "       226, 253, 253, 253, 253, 244, 133,  11,   0,   0,   0,   0,   0,\n",
       "         0,   0,   0,   0,   0,   0,   0,   0,   0,   0,   0,   0,   0,\n",
       "       136, 253, 253, 253, 212, 135, 132,  16,   0,   0,   0,   0,   0,\n",
       "         0,   0,   0,   0,   0,   0,   0,   0,   0,   0,   0,   0,   0,\n",
       "         0,   0,   0,   0,   0,   0,   0,   0,   0,   0,   0,   0,   0,\n",
       "         0,   0,   0,   0,   0,   0,   0,   0,   0,   0,   0,   0,   0,\n",
       "         0,   0,   0,   0,   0,   0,   0,   0,   0,   0,   0,   0,   0,\n",
       "         0,   0,   0,   0,   0,   0,   0,   0,   0,   0,   0,   0,   0,\n",
       "         0,   0,   0,   0,   0,   0,   0,   0,   0,   0,   0,   0,   0,\n",
       "         0,   0,   0,   0,   0,   0,   0,   0,   0,   0,   0,   0,   0,\n",
       "         0,   0,   0,   0], dtype=uint8)"
      ]
     },
     "execution_count": 19,
     "metadata": {},
     "output_type": "execute_result"
    }
   ],
   "source": [
    "x_train_reshaped[0]"
   ]
  },
  {
   "cell_type": "code",
   "execution_count": 20,
   "metadata": {},
   "outputs": [
    {
     "name": "stdout",
     "output_type": "stream",
     "text": [
      "{-0.4208334576662378, 1.170628963378821, 1.2969355047316034, 1.789531016007455, 1.6758551287899506, 2.7999833468297144, 2.6989381137474884, 1.183259617514099, 1.5242872791666118, 2.7747220385591578, 2.421063722771367, 2.5852622265299843, 1.6000712039782812, 0.02123943706850074, 1.4737646626254988, 1.221151579919934, 0.14754597842128317, 0.6022495272913, 2.0800360611188546, 1.334827467137438, -0.11769775841955994, 2.1937119483363587, 0.5896188731560217, 1.0822143844318732, 1.9410988656307937, 1.4485033543549422, -0.38294149526040305, 0.4127897152621263, 0.4633123318032393, 0.2738525197740656, 2.4336943769066455, -0.07980579601372521, 0.9432771889438125, 1.9284682114955156, -0.21874299150178592, 2.168450640065802, 2.6610461513416537, 0.19806859496239615, 1.5495485874371682, -0.041913833607890486, 0.9306465348085342, 0.5643575648854653, 2.04214409871302, 0.6148801814265782, -0.13032841255483818, 0.7538173769146389, 0.7159254145088042, -0.3955721493956813, -0.3071575704487336, -0.09243645014900347, 1.284304850596325, 2.635784843071097, 2.7620913844238797, 2.269495873148028, 1.8905762490896807, 0.28648317390934386, 2.7494607302886016, 2.623154188935819, 2.25686521901275, 1.019061113755482, 0.1222846701507267, -0.28189626217817715, -0.40820280353095956, 0.3875284069915698, 0.033870091203778985, 1.8779455949544026, 2.736830076153323, 2.370541106230254, 0.7664480310499171, 1.7516390536016202, 1.2590435423257686, 2.610523534800541, 2.1179280235246893, -0.1934816832312294, 0.07176205360961371, -0.1050671042842817, 0.16017663255656142, -0.2440042997723424, 1.739008399466342, 1.2464128881904903, 2.724199422018045, 1.9789908280366284, 2.3452797979596975, 2.47158633931248, 1.7263777453310636}\n"
     ]
    }
   ],
   "source": [
    "#data normalization\n",
    "x_mean=np.mean(x_train_reshaped)\n",
    "x_std=np.std(x_test_reshaped)\n",
    "epsilon=1e-10\n",
    "x_train_norm=(x_train_reshaped-x_mean)/(x_std+epsilon)\n",
    "x_test_norm=(x_test_reshaped-x_mean)/(x_std+epsilon)\n",
    "print(set(x_train_norm[0]))"
   ]
  },
  {
   "cell_type": "code",
   "execution_count": 21,
   "metadata": {
    "collapsed": true
   },
   "outputs": [
    {
     "data": {
      "text/plain": [
       "array([-0.42083346, -0.42083346, -0.42083346, -0.42083346, -0.42083346,\n",
       "       -0.42083346, -0.42083346, -0.42083346, -0.42083346, -0.42083346,\n",
       "       -0.42083346, -0.42083346, -0.42083346, -0.42083346, -0.42083346,\n",
       "       -0.42083346, -0.42083346, -0.42083346, -0.42083346, -0.42083346,\n",
       "       -0.42083346, -0.42083346, -0.42083346, -0.42083346, -0.42083346,\n",
       "       -0.42083346, -0.42083346, -0.42083346, -0.42083346, -0.42083346,\n",
       "       -0.42083346, -0.42083346, -0.42083346, -0.42083346, -0.42083346,\n",
       "       -0.42083346, -0.42083346, -0.42083346, -0.42083346, -0.42083346,\n",
       "       -0.42083346, -0.42083346, -0.42083346, -0.42083346, -0.42083346,\n",
       "       -0.42083346, -0.42083346, -0.42083346, -0.42083346, -0.42083346,\n",
       "       -0.42083346, -0.42083346, -0.42083346, -0.42083346, -0.42083346,\n",
       "       -0.42083346, -0.42083346, -0.42083346, -0.42083346, -0.42083346,\n",
       "       -0.42083346, -0.42083346, -0.42083346, -0.42083346, -0.42083346,\n",
       "       -0.42083346, -0.42083346, -0.42083346, -0.42083346, -0.42083346,\n",
       "       -0.42083346, -0.42083346, -0.42083346, -0.42083346, -0.42083346,\n",
       "       -0.42083346, -0.42083346, -0.42083346, -0.42083346, -0.42083346,\n",
       "       -0.42083346, -0.42083346, -0.42083346, -0.42083346, -0.42083346,\n",
       "       -0.42083346, -0.42083346, -0.42083346, -0.42083346, -0.42083346,\n",
       "       -0.42083346, -0.42083346, -0.42083346, -0.42083346, -0.42083346,\n",
       "       -0.42083346, -0.42083346, -0.42083346, -0.42083346, -0.42083346,\n",
       "       -0.42083346, -0.42083346, -0.42083346, -0.42083346, -0.42083346,\n",
       "       -0.42083346, -0.42083346, -0.42083346, -0.42083346, -0.42083346,\n",
       "       -0.42083346, -0.42083346, -0.42083346, -0.42083346, -0.42083346,\n",
       "       -0.42083346, -0.42083346, -0.42083346, -0.42083346, -0.42083346,\n",
       "       -0.42083346, -0.42083346, -0.42083346, -0.42083346, -0.42083346,\n",
       "       -0.42083346, -0.42083346, -0.42083346, -0.42083346, -0.42083346,\n",
       "       -0.42083346, -0.42083346, -0.42083346, -0.42083346, -0.42083346,\n",
       "       -0.42083346, -0.42083346, -0.42083346, -0.42083346, -0.42083346,\n",
       "       -0.42083346, -0.42083346, -0.42083346, -0.42083346, -0.42083346,\n",
       "       -0.42083346, -0.42083346, -0.42083346, -0.42083346, -0.42083346,\n",
       "       -0.42083346, -0.42083346, -0.3829415 , -0.19348168, -0.19348168,\n",
       "       -0.19348168,  1.17062896,  1.2969355 ,  1.78953102, -0.09243645,\n",
       "        1.67585513,  2.79998335,  2.69893811,  1.18325962, -0.42083346,\n",
       "       -0.42083346, -0.42083346, -0.42083346, -0.42083346, -0.42083346,\n",
       "       -0.42083346, -0.42083346, -0.42083346, -0.42083346, -0.42083346,\n",
       "       -0.42083346, -0.04191383,  0.03387009,  0.76644803,  1.52428728,\n",
       "        1.72637775,  2.77472204,  2.77472204,  2.77472204,  2.77472204,\n",
       "        2.77472204,  2.42106372,  1.75163905,  2.77472204,  2.63578484,\n",
       "        2.0421441 ,  0.38752841, -0.42083346, -0.42083346, -0.42083346,\n",
       "       -0.42083346, -0.42083346, -0.42083346, -0.42083346, -0.42083346,\n",
       "       -0.42083346, -0.42083346, -0.42083346,  0.19806859,  2.58526223,\n",
       "        2.77472204,  2.77472204,  2.77472204,  2.77472204,  2.77472204,\n",
       "        2.77472204,  2.77472204,  2.77472204,  2.74946073,  0.75381738,\n",
       "        0.61488018,  0.61488018,  0.28648317,  0.07176205, -0.42083346,\n",
       "       -0.42083346, -0.42083346, -0.42083346, -0.42083346, -0.42083346,\n",
       "       -0.42083346, -0.42083346, -0.42083346, -0.42083346, -0.42083346,\n",
       "       -0.42083346, -0.19348168,  2.3452798 ,  2.77472204,  2.77472204,\n",
       "        2.77472204,  2.77472204,  2.77472204,  2.08003606,  1.87794559,\n",
       "        2.69893811,  2.62315419, -0.42083346, -0.42083346, -0.42083346,\n",
       "       -0.42083346, -0.42083346, -0.42083346, -0.42083346, -0.42083346,\n",
       "       -0.42083346, -0.42083346, -0.42083346, -0.42083346, -0.42083346,\n",
       "       -0.42083346, -0.42083346, -0.42083346, -0.42083346, -0.42083346,\n",
       "        0.58961887,  1.54954859,  0.93064653,  2.77472204,  2.77472204,\n",
       "        2.16845064, -0.28189626, -0.42083346,  0.12228467,  1.52428728,\n",
       "       -0.42083346, -0.42083346, -0.42083346, -0.42083346, -0.42083346,\n",
       "       -0.42083346, -0.42083346, -0.42083346, -0.42083346, -0.42083346,\n",
       "       -0.42083346, -0.42083346, -0.42083346, -0.42083346, -0.42083346,\n",
       "       -0.42083346, -0.42083346, -0.42083346, -0.42083346, -0.2440043 ,\n",
       "       -0.4082028 ,  1.52428728,  2.77472204,  0.71592541, -0.42083346,\n",
       "       -0.42083346, -0.42083346, -0.42083346, -0.42083346, -0.42083346,\n",
       "       -0.42083346, -0.42083346, -0.42083346, -0.42083346, -0.42083346,\n",
       "       -0.42083346, -0.42083346, -0.42083346, -0.42083346, -0.42083346,\n",
       "       -0.42083346, -0.42083346, -0.42083346, -0.42083346, -0.42083346,\n",
       "       -0.42083346, -0.42083346, -0.42083346, -0.42083346,  1.33482747,\n",
       "        2.77472204,  1.97899083, -0.39557215, -0.42083346, -0.42083346,\n",
       "       -0.42083346, -0.42083346, -0.42083346, -0.42083346, -0.42083346,\n",
       "       -0.42083346, -0.42083346, -0.42083346, -0.42083346, -0.42083346,\n",
       "       -0.42083346, -0.42083346, -0.42083346, -0.42083346, -0.42083346,\n",
       "       -0.42083346, -0.42083346, -0.42083346, -0.42083346, -0.42083346,\n",
       "       -0.42083346, -0.42083346, -0.28189626,  1.97899083,  2.77472204,\n",
       "        0.46331233, -0.42083346, -0.42083346, -0.42083346, -0.42083346,\n",
       "       -0.42083346, -0.42083346, -0.42083346, -0.42083346, -0.42083346,\n",
       "       -0.42083346, -0.42083346, -0.42083346, -0.42083346, -0.42083346,\n",
       "       -0.42083346, -0.42083346, -0.42083346, -0.42083346, -0.42083346,\n",
       "       -0.42083346, -0.42083346, -0.42083346, -0.42083346, -0.42083346,\n",
       "       -0.42083346,  0.02123944,  2.62315419,  2.42106372,  1.6000712 ,\n",
       "        0.94327719, -0.4082028 , -0.42083346, -0.42083346, -0.42083346,\n",
       "       -0.42083346, -0.42083346, -0.42083346, -0.42083346, -0.42083346,\n",
       "       -0.42083346, -0.42083346, -0.42083346, -0.42083346, -0.42083346,\n",
       "       -0.42083346, -0.42083346, -0.42083346, -0.42083346, -0.42083346,\n",
       "       -0.42083346, -0.42083346, -0.42083346, -0.42083346, -0.42083346,\n",
       "        0.60224953,  2.61052353,  2.77472204,  2.77472204,  1.08221438,\n",
       "       -0.1050671 , -0.42083346, -0.42083346, -0.42083346, -0.42083346,\n",
       "       -0.42083346, -0.42083346, -0.42083346, -0.42083346, -0.42083346,\n",
       "       -0.42083346, -0.42083346, -0.42083346, -0.42083346, -0.42083346,\n",
       "       -0.42083346, -0.42083346, -0.42083346, -0.42083346, -0.42083346,\n",
       "       -0.42083346, -0.42083346, -0.42083346, -0.42083346,  0.14754598,\n",
       "        1.92846821,  2.77472204,  2.77472204,  1.47376466, -0.0798058 ,\n",
       "       -0.42083346, -0.42083346, -0.42083346, -0.42083346, -0.42083346,\n",
       "       -0.42083346, -0.42083346, -0.42083346, -0.42083346, -0.42083346,\n",
       "       -0.42083346, -0.42083346, -0.42083346, -0.42083346, -0.42083346,\n",
       "       -0.42083346, -0.42083346, -0.42083346, -0.42083346, -0.42083346,\n",
       "       -0.42083346, -0.42083346, -0.42083346, -0.21874299,  0.75381738,\n",
       "        2.76209138,  2.77472204,  1.94109887, -0.42083346, -0.42083346,\n",
       "       -0.42083346, -0.42083346, -0.42083346, -0.42083346, -0.42083346,\n",
       "       -0.42083346, -0.42083346, -0.42083346, -0.42083346, -0.42083346,\n",
       "       -0.42083346, -0.42083346, -0.42083346, -0.42083346, -0.42083346,\n",
       "       -0.42083346, -0.42083346, -0.42083346, -0.42083346, -0.42083346,\n",
       "       -0.42083346, -0.42083346, -0.42083346,  2.72419942,  2.77472204,\n",
       "        2.72419942,  0.38752841, -0.42083346, -0.42083346, -0.42083346,\n",
       "       -0.42083346, -0.42083346, -0.42083346, -0.42083346, -0.42083346,\n",
       "       -0.42083346, -0.42083346, -0.42083346, -0.42083346, -0.42083346,\n",
       "       -0.42083346, -0.42083346, -0.42083346, -0.42083346, -0.42083346,\n",
       "       -0.42083346, -0.42083346, -0.42083346,  0.16017663,  1.22115158,\n",
       "        1.89057625,  2.77472204,  2.77472204,  2.19371195, -0.39557215,\n",
       "       -0.42083346, -0.42083346, -0.42083346, -0.42083346, -0.42083346,\n",
       "       -0.42083346, -0.42083346, -0.42083346, -0.42083346, -0.42083346,\n",
       "       -0.42083346, -0.42083346, -0.42083346, -0.42083346, -0.42083346,\n",
       "       -0.42083346, -0.42083346, -0.42083346, -0.42083346,  0.07176205,\n",
       "        1.44850335,  2.47158634,  2.77472204,  2.77472204,  2.77472204,\n",
       "        2.73683008,  1.87794559, -0.42083346, -0.42083346, -0.42083346,\n",
       "       -0.42083346, -0.42083346, -0.42083346, -0.42083346, -0.42083346,\n",
       "       -0.42083346, -0.42083346, -0.42083346, -0.42083346, -0.42083346,\n",
       "       -0.42083346, -0.42083346, -0.42083346, -0.42083346, -0.42083346,\n",
       "       -0.11769776,  1.01906111,  2.37054111,  2.77472204,  2.77472204,\n",
       "        2.77472204,  2.77472204,  2.11792802,  0.56435756, -0.42083346,\n",
       "       -0.42083346, -0.42083346, -0.42083346, -0.42083346, -0.42083346,\n",
       "       -0.42083346, -0.42083346, -0.42083346, -0.42083346, -0.42083346,\n",
       "       -0.42083346, -0.42083346, -0.42083346, -0.42083346, -0.42083346,\n",
       "       -0.42083346, -0.13032841,  0.41278972,  2.26949587,  2.77472204,\n",
       "        2.77472204,  2.77472204,  2.77472204,  2.08003606,  0.60224953,\n",
       "       -0.39557215, -0.42083346, -0.42083346, -0.42083346, -0.42083346,\n",
       "       -0.42083346, -0.42083346, -0.42083346, -0.42083346, -0.42083346,\n",
       "       -0.42083346, -0.42083346, -0.42083346, -0.42083346, -0.42083346,\n",
       "       -0.42083346, -0.42083346, -0.19348168,  1.7390084 ,  2.3452798 ,\n",
       "        2.77472204,  2.77472204,  2.77472204,  2.77472204,  2.0421441 ,\n",
       "        0.58961887, -0.30715757, -0.42083346, -0.42083346, -0.42083346,\n",
       "       -0.42083346, -0.42083346, -0.42083346, -0.42083346, -0.42083346,\n",
       "       -0.42083346, -0.42083346, -0.42083346, -0.42083346, -0.42083346,\n",
       "       -0.42083346, -0.42083346, -0.42083346,  0.27385252,  1.75163905,\n",
       "        2.43369438,  2.77472204,  2.77472204,  2.77472204,  2.77472204,\n",
       "        2.66104615,  1.25904354, -0.28189626, -0.42083346, -0.42083346,\n",
       "       -0.42083346, -0.42083346, -0.42083346, -0.42083346, -0.42083346,\n",
       "       -0.42083346, -0.42083346, -0.42083346, -0.42083346, -0.42083346,\n",
       "       -0.42083346, -0.42083346, -0.42083346, -0.42083346, -0.42083346,\n",
       "       -0.42083346,  1.2969355 ,  2.77472204,  2.77472204,  2.77472204,\n",
       "        2.25686522,  1.28430485,  1.24641289, -0.21874299, -0.42083346,\n",
       "       -0.42083346, -0.42083346, -0.42083346, -0.42083346, -0.42083346,\n",
       "       -0.42083346, -0.42083346, -0.42083346, -0.42083346, -0.42083346,\n",
       "       -0.42083346, -0.42083346, -0.42083346, -0.42083346, -0.42083346,\n",
       "       -0.42083346, -0.42083346, -0.42083346, -0.42083346, -0.42083346,\n",
       "       -0.42083346, -0.42083346, -0.42083346, -0.42083346, -0.42083346,\n",
       "       -0.42083346, -0.42083346, -0.42083346, -0.42083346, -0.42083346,\n",
       "       -0.42083346, -0.42083346, -0.42083346, -0.42083346, -0.42083346,\n",
       "       -0.42083346, -0.42083346, -0.42083346, -0.42083346, -0.42083346,\n",
       "       -0.42083346, -0.42083346, -0.42083346, -0.42083346, -0.42083346,\n",
       "       -0.42083346, -0.42083346, -0.42083346, -0.42083346, -0.42083346,\n",
       "       -0.42083346, -0.42083346, -0.42083346, -0.42083346, -0.42083346,\n",
       "       -0.42083346, -0.42083346, -0.42083346, -0.42083346, -0.42083346,\n",
       "       -0.42083346, -0.42083346, -0.42083346, -0.42083346, -0.42083346,\n",
       "       -0.42083346, -0.42083346, -0.42083346, -0.42083346, -0.42083346,\n",
       "       -0.42083346, -0.42083346, -0.42083346, -0.42083346, -0.42083346,\n",
       "       -0.42083346, -0.42083346, -0.42083346, -0.42083346, -0.42083346,\n",
       "       -0.42083346, -0.42083346, -0.42083346, -0.42083346, -0.42083346,\n",
       "       -0.42083346, -0.42083346, -0.42083346, -0.42083346, -0.42083346,\n",
       "       -0.42083346, -0.42083346, -0.42083346, -0.42083346, -0.42083346,\n",
       "       -0.42083346, -0.42083346, -0.42083346, -0.42083346])"
      ]
     },
     "execution_count": 21,
     "metadata": {},
     "output_type": "execute_result"
    }
   ],
   "source": [
    "x_train_norm[0]"
   ]
  },
  {
   "cell_type": "code",
   "execution_count": 25,
   "metadata": {},
   "outputs": [],
   "source": [
    "#create model\n",
    "from tensorflow.keras.models import Sequential\n",
    "from tensorflow.keras.layers import Dense"
   ]
  },
  {
   "cell_type": "code",
   "execution_count": 26,
   "metadata": {},
   "outputs": [],
   "source": [
    "model=Sequential(\n",
    "         [Dense(128,activation='relu',input_shape=(784,)),\n",
    "          Dense(128,activation='relu'),\n",
    "          Dense(10,activation='softmax')\n",
    "         ])"
   ]
  },
  {
   "cell_type": "code",
   "execution_count": 34,
   "metadata": {},
   "outputs": [
    {
     "name": "stdout",
     "output_type": "stream",
     "text": [
      "Model: \"sequential\"\n",
      "_________________________________________________________________\n",
      "Layer (type)                 Output Shape              Param #   \n",
      "=================================================================\n",
      "dense (Dense)                (None, 128)               100480    \n",
      "_________________________________________________________________\n",
      "dense_1 (Dense)              (None, 128)               16512     \n",
      "_________________________________________________________________\n",
      "dense_2 (Dense)              (None, 10)                1290      \n",
      "=================================================================\n",
      "Total params: 118,282\n",
      "Trainable params: 118,282\n",
      "Non-trainable params: 0\n",
      "_________________________________________________________________\n"
     ]
    }
   ],
   "source": [
    "#compiling the model\n",
    "model.compile(\n",
    "              optimizer='sgd',\n",
    "              loss='categorical_crossentropy',\n",
    "              metrics=['accuracy']\n",
    "             )\n",
    "model.summary()"
   ]
  },
  {
   "cell_type": "code",
   "execution_count": 35,
   "metadata": {},
   "outputs": [
    {
     "name": "stdout",
     "output_type": "stream",
     "text": [
      "Train on 60000 samples\n",
      "Epoch 1/3\n",
      "60000/60000 [==============================] - 16s 261us/sample - loss: 0.3584 - accuracy: 0.8943\n",
      "Epoch 2/3\n",
      "60000/60000 [==============================] - 8s 135us/sample - loss: 0.1802 - accuracy: 0.9476\n",
      "Epoch 3/3\n",
      "60000/60000 [==============================] - 7s 121us/sample - loss: 0.1389 - accuracy: 0.9595\n",
      "10000/10000 [==============================] - 1s 95us/sample - loss: 0.1324 - accuracy: 0.9597\n",
      "95.96999883651733\n"
     ]
    }
   ],
   "source": [
    "model.fit(x_train_norm,y_train_encoded,epochs=3)\n",
    "loss,accuracy=model.evaluate(x_test_norm,y_test_encoded)\n",
    "print(accuracy*100)"
   ]
  },
  {
   "cell_type": "code",
   "execution_count": 36,
   "metadata": {},
   "outputs": [
    {
     "name": "stdout",
     "output_type": "stream",
     "text": [
      "(10000, 10)\n"
     ]
    }
   ],
   "source": [
    "#predication\n",
    "preds=model.predict(x_test_norm)\n",
    "print(preds.shape)\n",
    "\n"
   ]
  },
  {
   "cell_type": "code",
   "execution_count": 49,
   "metadata": {},
   "outputs": [
    {
     "data": {
      "image/png": "[encoded data removed]",
      "text/plain": [
       "<Figure size 864x864 with 25 Axes>"
      ]
     },
     "metadata": {},
     "output_type": "display_data"
    }
   ],
   "source": [
    "#plotting the result\n",
    "plt.figure(figsize=(12,12))\n",
    "start_index=0\n",
    "for i in range(25):\n",
    "    plt.subplot(5,5,i+1)\n",
    "    plt.grid('false')\n",
    "    plt.xticks([])\n",
    "    plt.yticks([])\n",
    "    pred=np.argmax(preds[start_index+i])\n",
    "    ground_truth=y_test[start_index+i]\n",
    "    col='g'\n",
    "    if pred!=ground_truth:\n",
    "        col='r'\n",
    "    plt.xlabel('i={},pred={},ground_truth={}'.format(start_index+i,pred,ground_truth),color=col)\n",
    "    plt.imshow(x_test[start_index+i],cmap='binary')\n",
    "plt.show()\n"
   ]
  },
  {
   "cell_type": "code",
   "execution_count": null,
   "metadata": {},
   "outputs": [],
   "source": []
  },
  {
   "cell_type": "code",
   "execution_count": null,
   "metadata": {},
   "outputs": [],
   "source": []
  }
 ],
 "metadata": {
  "kernelspec": {
   "display_name": "Python 3",
   "language": "python",
   "name": "python3"
  },
  "language_info": {
   "codemirror_mode": {
    "name": "ipython",
    "version": 3
   },
   "file_extension": ".py",
   "mimetype": "text/x-python",
   "name": "python",
   "nbconvert_exporter": "python",
   "pygments_lexer": "ipython3",
   "version": "3.7.7"
  }
 },
 "nbformat": 4,
 "nbformat_minor": 4
}
